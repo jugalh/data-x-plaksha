{
 "cells": [
  {
   "cell_type": "markdown",
   "metadata": {},
   "source": [
    "# Flask and Databases\n",
    "\n",
    "Source: https://pythonbasics.org/flask-sqlite/\n",
    "\n",
    "Python has built-in support for SQLite. The SQlite3 module comes with the Python release. In this article you will learn how the Flask application interacts with SQLite.\n",
    "\n",
    "SQLite is a relational database system that uses the SQL query language to interact with the database. Each database can have tables and each table can have records."
   ]
  },
  {
   "cell_type": "code",
   "execution_count": 6,
   "metadata": {},
   "outputs": [
    {
     "name": "stdout",
     "output_type": "stream",
     "text": [
      "Opened database successfully\n",
      "Table created successfully\n"
     ]
    }
   ],
   "source": [
    "# Create a database\n",
    "import sqlite3\n",
    "\n",
    "conn = sqlite3.connect('database.db')\n",
    "print (\"Opened database successfully\")\n",
    "\n",
    "conn.execute('CREATE TABLE students (name TEXT PRIMARY KEY, addr TEXT, city TEXT, pin TEXT)')\n",
    "print (\"Table created successfully\")\n",
    "conn.close()"
   ]
  },
  {
   "cell_type": "code",
   "execution_count": 7,
   "metadata": {},
   "outputs": [
    {
     "name": "stdout",
     "output_type": "stream",
     "text": [
      " * Serving Flask app \"__main__\" (lazy loading)\n",
      " * Environment: production\n",
      "   WARNING: This is a development server. Do not use it in a production deployment.\n",
      "   Use a production WSGI server instead.\n",
      " * Debug mode: off\n"
     ]
    },
    {
     "name": "stderr",
     "output_type": "stream",
     "text": [
      " * Running on http://127.0.0.1:5000/ (Press CTRL+C to quit)\n",
      "127.0.0.1 - - [17/Dec/2020 21:19:36] \"\u001b[37mGET / HTTP/1.1\u001b[0m\" 200 -\n",
      "127.0.0.1 - - [17/Dec/2020 21:19:40] \"\u001b[37mPOST /addrec HTTP/1.1\u001b[0m\" 200 -\n",
      "127.0.0.1 - - [17/Dec/2020 21:19:41] \"\u001b[37mGET / HTTP/1.1\u001b[0m\" 200 -\n",
      "127.0.0.1 - - [17/Dec/2020 21:19:42] \"\u001b[37mGET /list HTTP/1.1\u001b[0m\" 200 -\n"
     ]
    }
   ],
   "source": [
    "from flask import Flask, render_template, request\n",
    "import sqlite3 as sql\n",
    "\n",
    "\n",
    "app = Flask(__name__)\n",
    "\n",
    "@app.route('/')\n",
    "def home():\n",
    "    return render_template('student.html')\n",
    "\n",
    "\n",
    "\n",
    "@app.route('/addrec',methods = ['POST', 'GET'])\n",
    "def addrec():\n",
    "    if request.method == 'POST':\n",
    "        try:\n",
    "            nm = request.form['nm']\n",
    "            addr = request.form['add']\n",
    "            city = request.form['city']\n",
    "            pin = request.form['pin']\n",
    "         \n",
    "            with sql.connect(\"database.db\") as con:\n",
    "                cur = con.cursor()\n",
    "            \n",
    "                cur.execute(\"INSERT INTO students (name,addr,city,pin) VALUES (?,?,?,?)\",(nm,addr,city,pin) ) # ? and tuple for placeholders\n",
    "            \n",
    "                con.commit()\n",
    "                msg = \"Record successfully added\"\n",
    "        except:\n",
    "            con.rollback()\n",
    "            msg = \"error in insert operation\"\n",
    "      \n",
    "        finally:\n",
    "            return render_template(\"result.html\",msg = msg)\n",
    "            con.close()\n",
    "\n",
    "@app.route('/list')\n",
    "def list_all():\n",
    "    con = sql.connect(\"database.db\")\n",
    "    con.row_factory = sql.Row\n",
    "    \n",
    "    cur = con.cursor()\n",
    "    cur.execute(\"select * from students\")\n",
    "    \n",
    "    rows = cur.fetchall() # returns list of dictionaries\n",
    "    return render_template(\"list.html\",rows = rows)\n",
    "\n",
    "if __name__ == '__main__':\n",
    "   app.run()"
   ]
  },
  {
   "cell_type": "markdown",
   "metadata": {},
   "source": [
    "# Notes\n",
    "\n",
    "If a `finally` clause is present, the finally clause will execute as the last task before the try statement completes. The finally clause runs whether or not the try statement produces an exception\n",
    "\n",
    "----\n",
    "\n",
    "`con.row_factory = sqlite3.Row`\n",
    "Sets the row_factory to the callable sqlite3.Row, which converts the plain tuple into a more useful object.\n",
    "\n",
    "So now, when you pull rows from your database, you won't get back a plain python tuple, but a special object that makes it easier to work with (e.g. allowing you to access columns using names whereas a plain tuple would make you use numbered indices).\n",
    "\n",
    "Creates a 'dictionary cursor', - instead of tuples it starts returning 'dictionary' rows after fetchall or fetchone."
   ]
  },
  {
   "cell_type": "code",
   "execution_count": null,
   "metadata": {},
   "outputs": [],
   "source": []
  }
 ],
 "metadata": {
  "kernelspec": {
   "display_name": "Python 3",
   "language": "python",
   "name": "python3"
  },
  "language_info": {
   "codemirror_mode": {
    "name": "ipython",
    "version": 3
   },
   "file_extension": ".py",
   "mimetype": "text/x-python",
   "name": "python",
   "nbconvert_exporter": "python",
   "pygments_lexer": "ipython3",
   "version": "3.7.4"
  }
 },
 "nbformat": 4,
 "nbformat_minor": 4
}
